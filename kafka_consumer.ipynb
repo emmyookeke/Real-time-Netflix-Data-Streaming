{
 "cells": [
  {
   "cell_type": "code",
   "execution_count": 15,
   "metadata": {},
   "outputs": [],
   "source": [
    "# kafka_consumer.py\n",
    "from kafka import KafkaConsumer\n",
    "import json\n",
    "from time import sleep\n",
    "import boto3\n",
    "import uuid\n",
    "from botocore.exceptions import NoCredentialsError"
   ]
  },
  {
   "cell_type": "code",
   "execution_count": 16,
   "metadata": {},
   "outputs": [],
   "source": [
    "consumer = KafkaConsumer('netflix-data', bootstrap_servers=['13.58.11.37:9092'],\n",
    "                         value_deserializer=lambda x: json.loads(x.decode('utf-8')))"
   ]
  },
  {
   "cell_type": "code",
   "execution_count": 17,
   "metadata": {},
   "outputs": [
    {
     "name": "stdout",
     "output_type": "stream",
     "text": [
      "{'show_id': 's103', 'type': 'TV Show', 'title': 'Countdown: Inspiration4 Mission to Space', 'director': 'Jason Hehir', 'cast': '', 'country': '', 'date_added': '\"September 6', 'release_year': ' 2021\"', 'rating': '2021', 'duration': 'TV-14', 'listed_in': '1 Season', 'description': '\"Docuseries', 'recommendations': ['A StoryBots Space Adventure', 'Star Trek: Deep Space Nine', 'Nova: Ultimate Mars Challenge', 'Chris Brown: Welcome to My Life', 'Conor McGregor: Notorious']}\n",
      "{'show_id': 's104', 'type': 'Movie', 'title': 'Shadow Parties', 'director': 'Yemi Amodu', 'cast': '\"Jide Kosoko', 'country': ' Omotola Jalade-Ekeinde', 'date_added': ' Yemi Blaq', 'release_year': ' Sola Sobowale', 'rating': ' Ken Erics', 'duration': ' Toyin Aimakhu', 'listed_in': ' Segun Arinze', 'description': ' Jibola Dabo', 'recommendations': ['Cinar Agaci', 'Worth', 'Survivor', 'Glee', 'USS Indianapolis: Men of Courage']}\n",
      "{'show_id': 's105', 'type': 'TV Show', 'title': 'Tayo the Little Bus', 'director': '', 'cast': '\"Robyn Slade', 'country': ' Kami Desilets\"', 'date_added': 'South Korea', 'release_year': '\"September 6', 'rating': ' 2021\"', 'duration': '2016', 'listed_in': 'TV-Y', 'description': '2 Seasons', 'recommendations': ['Yoko and His Friends', 'Chhota Bheem', 'Tayo and Little Wizards', 'VeggieTales in the City', \"Ben & Holly's Little Kingdom\"]}\n",
      "{'show_id': 's106', 'type': 'Movie', 'title': 'Angamaly Diaries', 'director': 'Lijo Jose Pellissery', 'cast': '\"Antony Varghese', 'country': ' Reshma Rajan', 'date_added': ' Binny Rinky Benjamin', 'release_year': ' Vineeth Vishwam', 'rating': ' Kichu Tellus', 'duration': ' Sreekanth Dasan', 'listed_in': ' Sarath Kumar', 'description': ' Tito Wilson', 'recommendations': ['My True Friend', 'Mak Cun', 'Cool Hand Luke', 'Break', 'Blood Pact']}\n",
      "{'show_id': 's107', 'type': 'TV Show', 'title': \"Bunk'd\", 'director': '', 'cast': '\"Peyton List', 'country': ' Karan Brar', 'date_added': ' Skai Jackson', 'release_year': ' Miranda May', 'rating': ' Kevin G. Quinn', 'duration': ' Nathan Arenas', 'listed_in': ' Nina Lu\"', 'description': 'United States', 'recommendations': ['Barbie & Her Sisters in a Pony Tale', 'Saved by the Bell', 'Fear Street Part 2: 1978', 'Four Christmases', 'Tundukkan Playboy Itu']}\n",
      "{'show_id': 's108', 'type': 'Movie', 'title': 'A Champion Heart', 'director': 'David de Vos', 'cast': '\"Mandy Grace', 'country': ' David de Vos', 'date_added': ' Donna Rusch', 'release_year': ' Devan Key', 'rating': ' Isabella Mancuso', 'duration': ' Ariana Guido\"', 'listed_in': 'United States', 'description': '\"September 4', 'recommendations': ['Ponysitters Club', 'Riding Faith', 'Heartland', '22-Jul', '22 July']}\n",
      "{'show_id': 's109', 'type': 'TV Show', 'title': 'Dive Club', 'director': '', 'cast': '\"Aubri Ibrag', 'country': \" Sana'a Shaik\", 'date_added': ' Miah Madden', 'release_year': ' Mercy Cornwall', 'rating': ' Georgia-May Davis', 'duration': ' Ryan Harrison', 'listed_in': ' Josh Heuston', 'description': ' Alexander Grant\"', 'recommendations': ['Maroon', 'Blood & Water', 'Safe', 'Vodka Diaries', 'The Society']}\n",
      "{'show_id': 's110', 'type': 'TV Show', 'title': 'La casa de papel', 'director': '', 'cast': '\"Úrsula Corberó', 'country': ' Itziar Ituño', 'date_added': ' Álvaro Morte', 'release_year': ' Paco Tous', 'rating': ' Enrique Arce', 'duration': ' Pedro Alonso', 'listed_in': ' María Pedraza', 'description': ' Alba Flores', 'recommendations': ['Secrets of the Tower of London', 'Coin Heist', 'Bullet Head', 'Pizza, birra, faso', 'V.R. Troopers']}\n",
      "{'show_id': 's111', 'type': 'TV Show', 'title': 'Money Heist: From Tokyo to Berlin', 'director': '\"Luis Alfaro', 'cast': ' Javier Gómez Santander\"', 'country': '', 'date_added': '', 'release_year': '\"September 3', 'rating': ' 2021\"', 'duration': '2021', 'listed_in': 'TV-MA', 'description': '1 Season', 'recommendations': ['Money Heist: The Phenomenon', 'Hollywood', 'The Creative Indians', \"At Eternity's Gate\", 'What the Jatt!!']}\n",
      "{'show_id': 's112', 'type': 'TV Show', 'title': 'Sharkdog', 'director': '', 'cast': '\"Liam Mitchell', 'country': ' Dee Bradley Baker', 'date_added': ' Grey Griffin', 'release_year': ' Josh McDermitt', 'rating': ' Kari Wahlgren', 'duration': ' Judy Alice Lee', 'listed_in': ' Ali Mawji\"', 'description': '\"United States', 'recommendations': ['Sweet Tooth', 'Vampire Academy', 'Vampires', 'Chilling Adventures of Sabrina', 'Balto']}\n",
      "{'show_id': 's113', 'type': 'Movie', 'title': 'Worth', 'director': 'Sara Colangelo', 'cast': '\"Michael Keaton', 'country': ' Stanley Tucci', 'date_added': ' Amy Ryan', 'release_year': ' Shunori Ramanathan', 'rating': ' Ato Blankson-Wood', 'duration': ' Tate Donovan', 'listed_in': ' Laura Benanti', 'description': ' Chris Tardio\"', 'recommendations': ['Crash', 'Unabomber - In His Own Words', 'Adrift', 'Turning Point: 9/11 and the War on Terror', 'The Beginning of Life 2: Outside']}\n",
      "{'show_id': 's114', 'type': 'Movie', 'title': 'Afterlife of the Party', 'director': 'Stephen Herek', 'cast': '\"Victoria Justice', 'country': ' Midori Francis', 'date_added': ' Robyn Scott', 'release_year': ' Adam Garcia', 'rating': ' Timothy Renouf', 'duration': ' Gloria Garcia', 'listed_in': ' Myfanwy Waring', 'description': ' Spencer Sutherland\"', 'recommendations': ['Back to 1989', 'Don Quixote: The Ingenious Gentleman of La Mancha', 'The Imaginarium of Doctor Parnassus', 'Final Destination 2', 'One by Two']}\n",
      "{'show_id': 's115', 'type': 'Movie', 'title': 'Anjaam', 'director': 'Rahul Rawail', 'cast': '\"Madhuri Dixit', 'country': ' Shah Rukh Khan', 'date_added': ' Tinnu Anand', 'release_year': ' Johny Lever', 'rating': ' Kalpana Iyer', 'duration': ' Himani Shivpuri', 'listed_in': ' Sudha Chandran', 'description': ' Beena', 'recommendations': ['Sleepless Society: Bedtime Wishes', 'One Night Stand', 'Air Force One', 'Jackie Brown', 'La Piloto']}\n",
      "{'show_id': 's116', 'type': 'Movie', 'title': 'Bright Star', 'director': 'Jane Campion', 'cast': '\"Abbie Cornish', 'country': ' Ben Whishaw', 'date_added': ' Paul Schneider', 'release_year': ' Kerry Fox', 'rating': ' Edie Martin', 'duration': ' Thomas Brodie-Sangster', 'listed_in': ' Claudie Blakley', 'description': ' Gerard Monaco', 'recommendations': ['Queen of No Marriage', 'JJ+E', 'Kaviyude Osyath', 'What in the World Happened?', 'Love Jones']}\n",
      "{'show_id': 's117', 'type': 'Movie', 'title': 'Dhanak', 'director': 'Nagesh Kukunoor', 'cast': '\"Krrish Chhabria', 'country': ' Hetal Gada', 'date_added': ' Vipin Sharma', 'release_year': ' Gulfam Khan', 'rating': ' Suresh Menon', 'duration': ' Vijay Maurya', 'listed_in': ' Rajiv Lakshman', 'description': ' Ninad Kamat\"', 'recommendations': ['My Next Guest with David Letterman and Shah Rukh Khan', 'Wadjda', 'Neevevaro', 'Ready', 'Bucket List']}\n",
      "{'show_id': 's118', 'type': 'Movie', 'title': 'Final Account', 'director': 'Luke Holland', 'cast': '', 'country': '\"United Kingdom', 'date_added': ' United States\"', 'release_year': '\"September 2', 'rating': ' 2021\"', 'duration': '2021', 'listed_in': 'PG-13', 'description': '94 min', 'recommendations': ['Le serment des Hitler', 'Paranormal Survivor', 'Miles Davis: Birth of the Cool', 'John & Yoko: Above Us Only Sky', 'Inside the Real Narcos']}\n",
      "{'show_id': 's119', 'type': 'Movie', 'title': 'Gurgaon', 'director': 'Shanker Raman', 'cast': '\"Akshay Oberoi', 'country': ' Pankaj Tripathi', 'date_added': ' Ragini Khanna', 'release_year': ' Aamir Bashir', 'rating': ' Shalini Vatsa', 'duration': ' Ashish Verma\"', 'listed_in': 'India', 'description': '\"September 2', 'recommendations': ['To All The Boys: Always And Forever', 'English Babu Desi Mem', 'Prospect', 'Christmas with the Kranks', 'This Evening']}\n",
      "{'show_id': 's120', 'type': 'Movie', 'title': 'Here and There', 'director': 'JP Habac', 'cast': '\"Janine Gutierrez', 'country': ' JC Santos', 'date_added': ' Victor Anastacio', 'release_year': ' Yesh Burce', 'rating': ' Lotlot De Leon\"', 'duration': '', 'listed_in': '\"September 2', 'description': ' 2021\"', 'recommendations': ['Fishpeople', 'One', 'Inst@famous', 'Inheritors', 'Girls Hostel']}\n",
      "{'show_id': 's121', 'type': 'TV Show', 'title': 'Heroes of Goo Jit Zu', 'director': '', 'cast': '\"Jon Allen', 'country': ' Kellen Goff', 'date_added': ' Joe Hernandez', 'release_year': ' Kaiji Tang\"', 'rating': 'Australia', 'duration': '\"September 2', 'listed_in': ' 2021\"', 'description': '2021', 'recommendations': ['Miniforce: Super Dino Power', 'Bartkowiak', 'Brave Animated Series', \"DC's Legends of Tomorrow\", 'Rainbow Rangers']}\n",
      "{'show_id': 's122', 'type': 'TV Show', 'title': 'Hotel Del Luna', 'director': '', 'cast': '\"Lee Ji-eun', 'country': ' Yeo Jin-goo', 'date_added': ' Shin Jung-geun', 'release_year': ' Seo Yi-sook', 'rating': ' Bae Hae-sun', 'duration': ' Pyo Ji-hoon', 'listed_in': ' Cho Hyun-chul', 'description': ' Kang Hong-suk', 'recommendations': ['Dushman', 'The Furchester Hotel', 'Go! Live Your Way', 'Good Morning Call', 'The Invisible Guest']}\n",
      "{'show_id': 's123', 'type': 'Movie', 'title': 'In the Cut', 'director': 'Jane Campion', 'cast': '\"Meg Ryan', 'country': ' Mark Ruffalo', 'date_added': ' Jennifer Jason Leigh', 'release_year': ' Nick Damici', 'rating': ' Sharrieff Pugh', 'duration': ' Kevin Bacon', 'listed_in': ' Yaani King Mondschein', 'description': ' Heather Litteer\"', 'recommendations': ['The Last Letter From Your Lover', 'Naam Shabana', 'Queen', 'The Lovers', 'Special']}\n",
      "{'show_id': 's124', 'type': 'TV Show', 'title': 'Luv Kushh', 'director': '', 'cast': '', 'country': '', 'date_added': '\"September 2', 'release_year': ' 2021\"', 'rating': '2012', 'duration': 'TV-Y7', 'listed_in': '1 Season', 'description': \"Kids' TV\", 'recommendations': ['Jeans', 'Bheemayan', 'Sinister 2', 'Hibana: Spark', 'Las muñecas de la mafia']}\n",
      "{'show_id': 's125', 'type': 'TV Show', 'title': 'Pororo - The Little Penguin', 'director': '', 'cast': '', 'country': 'South Korea', 'date_added': '\"September 2', 'release_year': ' 2021\"', 'rating': '2013', 'duration': 'TV-Y7', 'listed_in': '3 Seasons', 'description': '\"Kids\\' TV', 'recommendations': ['Norm of the North: Keys to the Kingdom', 'Norm of the North: King Sized Adventure', 'Man vs Wild with Sunny Leone', 'Shopkins', 'Tip the Mouse']}\n",
      "{'show_id': 's126', 'type': 'TV Show', 'title': 'Q-Force', 'director': '', 'cast': '\"Sean Hayes', 'country': ' Wanda Sykes', 'date_added': ' Laurie Metcalf', 'release_year': ' David Harbour', 'rating': ' Gary Cole', 'duration': ' Patti Harrison', 'listed_in': ' Matt Rogers\"', 'description': 'United States', 'recommendations': ['Heroes Wanted', 'Super Drags', 'Naam Shabana', 'Happy Times', 'Kipo and the Age of Wonderbeasts']}\n"
     ]
    },
    {
     "ename": "KeyboardInterrupt",
     "evalue": "",
     "output_type": "error",
     "traceback": [
      "\u001b[1;31m---------------------------------------------------------------------------\u001b[0m",
      "\u001b[1;31mKeyboardInterrupt\u001b[0m                         Traceback (most recent call last)",
      "Cell \u001b[1;32mIn[17], line 2\u001b[0m\n\u001b[0;32m      1\u001b[0m \u001b[38;5;66;03m# consumer loop\u001b[39;00m\n\u001b[1;32m----> 2\u001b[0m \u001b[38;5;28;01mfor\u001b[39;00m message \u001b[38;5;129;01min\u001b[39;00m consumer:\n\u001b[0;32m      3\u001b[0m     \u001b[38;5;28mprint\u001b[39m(message\u001b[38;5;241m.\u001b[39mvalue)\n",
      "File \u001b[1;32mc:\\Users\\Emeka\\anaconda3\\Lib\\site-packages\\kafka\\consumer\\group.py:1193\u001b[0m, in \u001b[0;36mKafkaConsumer.__next__\u001b[1;34m(self)\u001b[0m\n\u001b[0;32m   1191\u001b[0m     \u001b[38;5;28;01mreturn\u001b[39;00m \u001b[38;5;28mself\u001b[39m\u001b[38;5;241m.\u001b[39mnext_v1()\n\u001b[0;32m   1192\u001b[0m \u001b[38;5;28;01melse\u001b[39;00m:\n\u001b[1;32m-> 1193\u001b[0m     \u001b[38;5;28;01mreturn\u001b[39;00m \u001b[38;5;28mself\u001b[39m\u001b[38;5;241m.\u001b[39mnext_v2()\n",
      "File \u001b[1;32mc:\\Users\\Emeka\\anaconda3\\Lib\\site-packages\\kafka\\consumer\\group.py:1201\u001b[0m, in \u001b[0;36mKafkaConsumer.next_v2\u001b[1;34m(self)\u001b[0m\n\u001b[0;32m   1199\u001b[0m     \u001b[38;5;28mself\u001b[39m\u001b[38;5;241m.\u001b[39m_iterator \u001b[38;5;241m=\u001b[39m \u001b[38;5;28mself\u001b[39m\u001b[38;5;241m.\u001b[39m_message_generator_v2()\n\u001b[0;32m   1200\u001b[0m \u001b[38;5;28;01mtry\u001b[39;00m:\n\u001b[1;32m-> 1201\u001b[0m     \u001b[38;5;28;01mreturn\u001b[39;00m \u001b[38;5;28mnext\u001b[39m(\u001b[38;5;28mself\u001b[39m\u001b[38;5;241m.\u001b[39m_iterator)\n\u001b[0;32m   1202\u001b[0m \u001b[38;5;28;01mexcept\u001b[39;00m \u001b[38;5;167;01mStopIteration\u001b[39;00m:\n\u001b[0;32m   1203\u001b[0m     \u001b[38;5;28mself\u001b[39m\u001b[38;5;241m.\u001b[39m_iterator \u001b[38;5;241m=\u001b[39m \u001b[38;5;28;01mNone\u001b[39;00m\n",
      "File \u001b[1;32mc:\\Users\\Emeka\\anaconda3\\Lib\\site-packages\\kafka\\consumer\\group.py:1116\u001b[0m, in \u001b[0;36mKafkaConsumer._message_generator_v2\u001b[1;34m(self)\u001b[0m\n\u001b[0;32m   1114\u001b[0m \u001b[38;5;28;01mdef\u001b[39;00m \u001b[38;5;21m_message_generator_v2\u001b[39m(\u001b[38;5;28mself\u001b[39m):\n\u001b[0;32m   1115\u001b[0m     timeout_ms \u001b[38;5;241m=\u001b[39m \u001b[38;5;241m1000\u001b[39m \u001b[38;5;241m*\u001b[39m (\u001b[38;5;28mself\u001b[39m\u001b[38;5;241m.\u001b[39m_consumer_timeout \u001b[38;5;241m-\u001b[39m time\u001b[38;5;241m.\u001b[39mtime())\n\u001b[1;32m-> 1116\u001b[0m     record_map \u001b[38;5;241m=\u001b[39m \u001b[38;5;28mself\u001b[39m\u001b[38;5;241m.\u001b[39mpoll(timeout_ms\u001b[38;5;241m=\u001b[39mtimeout_ms, update_offsets\u001b[38;5;241m=\u001b[39m\u001b[38;5;28;01mFalse\u001b[39;00m)\n\u001b[0;32m   1117\u001b[0m     \u001b[38;5;28;01mfor\u001b[39;00m tp, records \u001b[38;5;129;01min\u001b[39;00m six\u001b[38;5;241m.\u001b[39miteritems(record_map):\n\u001b[0;32m   1118\u001b[0m         \u001b[38;5;66;03m# Generators are stateful, and it is possible that the tp / records\u001b[39;00m\n\u001b[0;32m   1119\u001b[0m         \u001b[38;5;66;03m# here may become stale during iteration -- i.e., we seek to a\u001b[39;00m\n\u001b[0;32m   1120\u001b[0m         \u001b[38;5;66;03m# different offset, pause consumption, or lose assignment.\u001b[39;00m\n\u001b[0;32m   1121\u001b[0m         \u001b[38;5;28;01mfor\u001b[39;00m record \u001b[38;5;129;01min\u001b[39;00m records:\n\u001b[0;32m   1122\u001b[0m             \u001b[38;5;66;03m# is_fetchable(tp) should handle assignment changes and offset\u001b[39;00m\n\u001b[0;32m   1123\u001b[0m             \u001b[38;5;66;03m# resets; for all other changes (e.g., seeks) we'll rely on the\u001b[39;00m\n\u001b[0;32m   1124\u001b[0m             \u001b[38;5;66;03m# outer function destroying the existing iterator/generator\u001b[39;00m\n\u001b[0;32m   1125\u001b[0m             \u001b[38;5;66;03m# via self._iterator = None\u001b[39;00m\n",
      "File \u001b[1;32mc:\\Users\\Emeka\\anaconda3\\Lib\\site-packages\\kafka\\consumer\\group.py:655\u001b[0m, in \u001b[0;36mKafkaConsumer.poll\u001b[1;34m(self, timeout_ms, max_records, update_offsets)\u001b[0m\n\u001b[0;32m    653\u001b[0m remaining \u001b[38;5;241m=\u001b[39m timeout_ms\n\u001b[0;32m    654\u001b[0m \u001b[38;5;28;01mwhile\u001b[39;00m \u001b[38;5;28;01mTrue\u001b[39;00m:\n\u001b[1;32m--> 655\u001b[0m     records \u001b[38;5;241m=\u001b[39m \u001b[38;5;28mself\u001b[39m\u001b[38;5;241m.\u001b[39m_poll_once(remaining, max_records, update_offsets\u001b[38;5;241m=\u001b[39mupdate_offsets)\n\u001b[0;32m    656\u001b[0m     \u001b[38;5;28;01mif\u001b[39;00m records:\n\u001b[0;32m    657\u001b[0m         \u001b[38;5;28;01mreturn\u001b[39;00m records\n",
      "File \u001b[1;32mc:\\Users\\Emeka\\anaconda3\\Lib\\site-packages\\kafka\\consumer\\group.py:702\u001b[0m, in \u001b[0;36mKafkaConsumer._poll_once\u001b[1;34m(self, timeout_ms, max_records, update_offsets)\u001b[0m\n\u001b[0;32m    699\u001b[0m     \u001b[38;5;28mself\u001b[39m\u001b[38;5;241m.\u001b[39m_client\u001b[38;5;241m.\u001b[39mpoll(timeout_ms\u001b[38;5;241m=\u001b[39m\u001b[38;5;241m0\u001b[39m)\n\u001b[0;32m    701\u001b[0m timeout_ms \u001b[38;5;241m=\u001b[39m \u001b[38;5;28mmin\u001b[39m(timeout_ms, \u001b[38;5;28mself\u001b[39m\u001b[38;5;241m.\u001b[39m_coordinator\u001b[38;5;241m.\u001b[39mtime_to_next_poll() \u001b[38;5;241m*\u001b[39m \u001b[38;5;241m1000\u001b[39m)\n\u001b[1;32m--> 702\u001b[0m \u001b[38;5;28mself\u001b[39m\u001b[38;5;241m.\u001b[39m_client\u001b[38;5;241m.\u001b[39mpoll(timeout_ms\u001b[38;5;241m=\u001b[39mtimeout_ms)\n\u001b[0;32m    703\u001b[0m \u001b[38;5;66;03m# after the long poll, we should check whether the group needs to rebalance\u001b[39;00m\n\u001b[0;32m    704\u001b[0m \u001b[38;5;66;03m# prior to returning data so that the group can stabilize faster\u001b[39;00m\n\u001b[0;32m    705\u001b[0m \u001b[38;5;28;01mif\u001b[39;00m \u001b[38;5;28mself\u001b[39m\u001b[38;5;241m.\u001b[39m_coordinator\u001b[38;5;241m.\u001b[39mneed_rejoin():\n",
      "File \u001b[1;32mc:\\Users\\Emeka\\anaconda3\\Lib\\site-packages\\kafka\\client_async.py:602\u001b[0m, in \u001b[0;36mKafkaClient.poll\u001b[1;34m(self, timeout_ms, future)\u001b[0m\n\u001b[0;32m    599\u001b[0m             timeout \u001b[38;5;241m=\u001b[39m \u001b[38;5;28mmin\u001b[39m(timeout, \u001b[38;5;28mself\u001b[39m\u001b[38;5;241m.\u001b[39mconfig[\u001b[38;5;124m'\u001b[39m\u001b[38;5;124mretry_backoff_ms\u001b[39m\u001b[38;5;124m'\u001b[39m])\n\u001b[0;32m    600\u001b[0m         timeout \u001b[38;5;241m=\u001b[39m \u001b[38;5;28mmax\u001b[39m(\u001b[38;5;241m0\u001b[39m, timeout)  \u001b[38;5;66;03m# avoid negative timeouts\u001b[39;00m\n\u001b[1;32m--> 602\u001b[0m     \u001b[38;5;28mself\u001b[39m\u001b[38;5;241m.\u001b[39m_poll(timeout \u001b[38;5;241m/\u001b[39m \u001b[38;5;241m1000\u001b[39m)\n\u001b[0;32m    604\u001b[0m \u001b[38;5;66;03m# called without the lock to avoid deadlock potential\u001b[39;00m\n\u001b[0;32m    605\u001b[0m \u001b[38;5;66;03m# if handlers need to acquire locks\u001b[39;00m\n\u001b[0;32m    606\u001b[0m responses\u001b[38;5;241m.\u001b[39mextend(\u001b[38;5;28mself\u001b[39m\u001b[38;5;241m.\u001b[39m_fire_pending_completed_requests())\n",
      "File \u001b[1;32mc:\\Users\\Emeka\\anaconda3\\Lib\\site-packages\\kafka\\client_async.py:634\u001b[0m, in \u001b[0;36mKafkaClient._poll\u001b[1;34m(self, timeout)\u001b[0m\n\u001b[0;32m    631\u001b[0m \u001b[38;5;28mself\u001b[39m\u001b[38;5;241m.\u001b[39m_register_send_sockets()\n\u001b[0;32m    633\u001b[0m start_select \u001b[38;5;241m=\u001b[39m time\u001b[38;5;241m.\u001b[39mtime()\n\u001b[1;32m--> 634\u001b[0m ready \u001b[38;5;241m=\u001b[39m \u001b[38;5;28mself\u001b[39m\u001b[38;5;241m.\u001b[39m_selector\u001b[38;5;241m.\u001b[39mselect(timeout)\n\u001b[0;32m    635\u001b[0m end_select \u001b[38;5;241m=\u001b[39m time\u001b[38;5;241m.\u001b[39mtime()\n\u001b[0;32m    636\u001b[0m \u001b[38;5;28;01mif\u001b[39;00m \u001b[38;5;28mself\u001b[39m\u001b[38;5;241m.\u001b[39m_sensors:\n",
      "File \u001b[1;32mc:\\Users\\Emeka\\anaconda3\\Lib\\selectors.py:323\u001b[0m, in \u001b[0;36mSelectSelector.select\u001b[1;34m(self, timeout)\u001b[0m\n\u001b[0;32m    321\u001b[0m ready \u001b[38;5;241m=\u001b[39m []\n\u001b[0;32m    322\u001b[0m \u001b[38;5;28;01mtry\u001b[39;00m:\n\u001b[1;32m--> 323\u001b[0m     r, w, _ \u001b[38;5;241m=\u001b[39m \u001b[38;5;28mself\u001b[39m\u001b[38;5;241m.\u001b[39m_select(\u001b[38;5;28mself\u001b[39m\u001b[38;5;241m.\u001b[39m_readers, \u001b[38;5;28mself\u001b[39m\u001b[38;5;241m.\u001b[39m_writers, [], timeout)\n\u001b[0;32m    324\u001b[0m \u001b[38;5;28;01mexcept\u001b[39;00m \u001b[38;5;167;01mInterruptedError\u001b[39;00m:\n\u001b[0;32m    325\u001b[0m     \u001b[38;5;28;01mreturn\u001b[39;00m ready\n",
      "File \u001b[1;32mc:\\Users\\Emeka\\anaconda3\\Lib\\selectors.py:314\u001b[0m, in \u001b[0;36mSelectSelector._select\u001b[1;34m(self, r, w, _, timeout)\u001b[0m\n\u001b[0;32m    313\u001b[0m \u001b[38;5;28;01mdef\u001b[39;00m \u001b[38;5;21m_select\u001b[39m(\u001b[38;5;28mself\u001b[39m, r, w, _, timeout\u001b[38;5;241m=\u001b[39m\u001b[38;5;28;01mNone\u001b[39;00m):\n\u001b[1;32m--> 314\u001b[0m     r, w, x \u001b[38;5;241m=\u001b[39m select\u001b[38;5;241m.\u001b[39mselect(r, w, w, timeout)\n\u001b[0;32m    315\u001b[0m     \u001b[38;5;28;01mreturn\u001b[39;00m r, w \u001b[38;5;241m+\u001b[39m x, []\n",
      "\u001b[1;31mKeyboardInterrupt\u001b[0m: "
     ]
    }
   ],
   "source": [
    "# consumer loop\n",
    "for message in consumer:\n",
    "    print(message.value)"
   ]
  },
  {
   "cell_type": "markdown",
   "metadata": {},
   "source": [
    "## For S3 bucket"
   ]
  },
  {
   "cell_type": "code",
   "execution_count": 18,
   "metadata": {},
   "outputs": [],
   "source": [
    "# Function to read config from config.json\n",
    "def read_config():\n",
    "    try:\n",
    "        with open('config.json', 'r') as config_file:\n",
    "            config = json.load(config_file)\n",
    "            return config\n",
    "    except FileNotFoundError:\n",
    "        print(\"Config file not found.\")\n",
    "        return None\n",
    "\n",
    "# Function to upload data to AWS S3\n",
    "def upload_to_s3(data):\n",
    "    config = read_config()\n",
    "    if config is None:\n",
    "        return\n",
    "\n",
    "    aws_access_key = config.get('aws_access_key', '')\n",
    "    aws_secret_key = config.get('aws_secret_key', '')\n",
    "    bucket_name = config.get('bucket_name', '')\n",
    "\n",
    "    s3 = boto3.client('s3', aws_access_key_id=aws_access_key, aws_secret_access_key=aws_secret_key)\n",
    "\n",
    "    try:\n",
    "        unique_id = str(uuid.uuid4())\n",
    "        json_data = json.dumps(data)\n",
    "\n",
    "        s3.put_object(Bucket=bucket_name, Key=f'json_files/{unique_id}.json', Body=json_data)\n",
    "        print(f\"Data for ID {unique_id} uploaded to S3 successfully.\")\n",
    "    except NoCredentialsError:\n",
    "        print(\"Credentials not available\")"
   ]
  },
  {
   "cell_type": "code",
   "execution_count": 19,
   "metadata": {},
   "outputs": [
    {
     "name": "stdout",
     "output_type": "stream",
     "text": [
      "{'show_id': 's127', 'type': 'Movie', 'title': 'Shikara', 'director': 'Vidhu Vinod Chopra', 'cast': '\"Aadil Khan', 'country': ' Sadia Khateeb', 'date_added': ' Zain Khan Durrani', 'release_year': ' Priyanshu Chatterjee', 'rating': ' Bhavna Chauhan', 'duration': ' Ashwin Dhar', 'listed_in': ' Farid Azad Khan', 'description': ' Saghar Sehrai\"', 'recommendations': ['Torbaaz', 'Wet Hot American Summer', 'Dilwale', 'Club Friday To Be Continued - My Beautiful Tomboy', 'The King']}\n",
      "Data for ID 66bb2c1d-e33b-43ab-9874-38c55a26e47d uploaded to S3 successfully.\n",
      "{'show_id': 's128', 'type': 'Movie', 'title': 'A Cinderella Story', 'director': 'Mark Rosman', 'cast': '\"Hilary Duff', 'country': ' Chad Michael Murray', 'date_added': ' Jennifer Coolidge', 'release_year': ' Dan Byrd', 'rating': ' Regina King', 'duration': ' Julie Gonzalo', 'listed_in': ' Lin Shaye', 'description': ' Madeline Zima', 'recommendations': ['Aamir', 'Midnight Diner', 'IBOY', 'Confusion Na Wa', 'Udaan']}\n",
      "Data for ID cfb14014-2776-4e87-b9ac-6b972bf4d5d3 uploaded to S3 successfully.\n",
      "{'show_id': 's129', 'type': 'Movie', 'title': \"Agatha Christie's Crooked House\", 'director': 'Gilles Paquet-Brenner', 'cast': '\"Glenn Close', 'country': ' Terence Stamp', 'date_added': ' Max Irons', 'release_year': ' Gillian Anderson', 'rating': ' Christina Hendricks', 'duration': ' Stefanie Martini', 'listed_in': ' Julian Sands', 'description': ' Honor Kneafsey', 'recommendations': ['Kaleidoscope', 'Ottaal', 'Hotel Beau Séjour', 'DNA', 'Force 2']}\n",
      "Data for ID 2da0ce39-0865-4a1b-9cdc-a40a80a8be04 uploaded to S3 successfully.\n"
     ]
    },
    {
     "ename": "KeyboardInterrupt",
     "evalue": "",
     "output_type": "error",
     "traceback": [
      "\u001b[1;31m---------------------------------------------------------------------------\u001b[0m",
      "\u001b[1;31mKeyboardInterrupt\u001b[0m                         Traceback (most recent call last)",
      "Cell \u001b[1;32mIn[19], line 5\u001b[0m\n\u001b[0;32m      3\u001b[0m \u001b[38;5;28mprint\u001b[39m(message\u001b[38;5;241m.\u001b[39mvalue)\n\u001b[0;32m      4\u001b[0m upload_to_s3(message\u001b[38;5;241m.\u001b[39mvalue)\n\u001b[1;32m----> 5\u001b[0m sleep(\u001b[38;5;241m3\u001b[39m)\n",
      "\u001b[1;31mKeyboardInterrupt\u001b[0m: "
     ]
    }
   ],
   "source": [
    "# Example consumer loop\n",
    "for message in consumer:\n",
    "    print(message.value)\n",
    "    upload_to_s3(message.value)\n",
    "    sleep(3)"
   ]
  }
 ],
 "metadata": {
  "kernelspec": {
   "display_name": "Python 3",
   "language": "python",
   "name": "python3"
  },
  "language_info": {
   "codemirror_mode": {
    "name": "ipython",
    "version": 3
   },
   "file_extension": ".py",
   "mimetype": "text/x-python",
   "name": "python",
   "nbconvert_exporter": "python",
   "pygments_lexer": "ipython3",
   "version": "3.11.5"
  }
 },
 "nbformat": 4,
 "nbformat_minor": 2
}
