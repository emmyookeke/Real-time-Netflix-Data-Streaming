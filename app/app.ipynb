{
 "cells": [
  {
   "cell_type": "code",
   "execution_count": 4,
   "metadata": {},
   "outputs": [],
   "source": [
    "from flask import Flask, render_template\n",
    "from kafka import KafkaConsumer\n",
    "import json\n",
    "\n",
    "app = Flask(__name__)\n",
    "\n",
    "consumer = KafkaConsumer('netflix-data', bootstrap_servers=['13.58.11.37:9092'],\n",
    "                         value_deserializer=lambda x: json.loads(x.decode('utf-8')))\n",
    "\n",
    "@app.route('/')\n",
    "def index():\n",
    "    messages = []\n",
    "    for message in consumer:\n",
    "        messages.append(message.value)\n",
    "        if len(messages) >= 10:\n",
    "            break\n",
    "\n",
    "    # Extracting relevant data for recommendations\n",
    "    recommendations = extract_recommendations(messages)\n",
    "\n",
    "    return render_template('index.html', messages=messages, recommendations=recommendations)\n",
    "\n",
    "def extract_recommendations(messages):\n",
    "    # Extract and format recommendation data\n",
    "    recommendations = []\n",
    "\n",
    "    for message in messages:\n",
    "        title = message.get(\"title\")\n",
    "        director = message.get(\"director\")\n",
    "        cast = message.get(\"cast\")\n",
    "        description = message.get(\"description\")\n",
    "\n",
    "        # You can customize the recommendation logic here based on your requirements\n",
    "\n",
    "        # For example, recommending based on the director\n",
    "        if director:\n",
    "            recommendations.append(f\"Check out more from director {director}: {title}\")\n",
    "\n",
    "        # Another example, recommending based on a cast member\n",
    "        if cast:\n",
    "            recommendations.append(f\"Featuring {cast.split(',')[0]}, also in: {title}\")\n",
    "\n",
    "    return recommendations\n",
    "\n"
   ]
  },
  {
   "cell_type": "code",
   "execution_count": 5,
   "metadata": {},
   "outputs": [
    {
     "name": "stdout",
     "output_type": "stream",
     "text": [
      " * Serving Flask app '__main__'\n",
      " * Debug mode: off\n"
     ]
    },
    {
     "name": "stderr",
     "output_type": "stream",
     "text": [
      "WARNING: This is a development server. Do not use it in a production deployment. Use a production WSGI server instead.\n",
      " * Running on http://127.0.0.1:5000\n",
      "Press CTRL+C to quit\n"
     ]
    },
    {
     "name": "stderr",
     "output_type": "stream",
     "text": [
      "127.0.0.1 - - [29/Apr/2024 22:48:43] \"GET / HTTP/1.1\" 200 -\n",
      "127.0.0.1 - - [29/Apr/2024 22:48:44] \"GET /static/styles/style.css HTTP/1.1\" 304 -\n",
      "127.0.0.1 - - [29/Apr/2024 22:49:52] \"GET /static/styles/style.css HTTP/1.1\" 304 -\n"
     ]
    }
   ],
   "source": [
    "if __name__ == '__main__':\n",
    "    try:\n",
    "        app.run(debug=False)\n",
    "    except Exception as e:\n",
    "        print(\"An error occurred:\", str(e))"
   ]
  },
  {
   "cell_type": "code",
   "execution_count": null,
   "metadata": {},
   "outputs": [],
   "source": []
  }
 ],
 "metadata": {
  "kernelspec": {
   "display_name": "Python 3",
   "language": "python",
   "name": "python3"
  },
  "language_info": {
   "codemirror_mode": {
    "name": "ipython",
    "version": 3
   },
   "file_extension": ".py",
   "mimetype": "text/x-python",
   "name": "python",
   "nbconvert_exporter": "python",
   "pygments_lexer": "ipython3",
   "version": "3.11.5"
  }
 },
 "nbformat": 4,
 "nbformat_minor": 2
}
