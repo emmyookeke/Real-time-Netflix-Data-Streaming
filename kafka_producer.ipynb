{
 "cells": [
  {
   "cell_type": "code",
   "execution_count": 3,
   "metadata": {},
   "outputs": [
    {
     "ename": "KeyError",
     "evalue": "'title'",
     "output_type": "error",
     "traceback": [
      "\u001b[1;31m---------------------------------------------------------------------------\u001b[0m",
      "\u001b[1;31mKeyError\u001b[0m                                  Traceback (most recent call last)",
      "Cell \u001b[1;32mIn[3], line 33\u001b[0m\n\u001b[0;32m     29\u001b[0m \u001b[38;5;28;01mfor\u001b[39;00m line \u001b[38;5;129;01min\u001b[39;00m f:\n\u001b[0;32m     30\u001b[0m     \u001b[38;5;66;03m# Convert each CSV line to a dictionary\u001b[39;00m\n\u001b[0;32m     31\u001b[0m     data \u001b[38;5;241m=\u001b[39m \u001b[38;5;28mdict\u001b[39m(\u001b[38;5;28mzip\u001b[39m(df\u001b[38;5;241m.\u001b[39mcolumns, line\u001b[38;5;241m.\u001b[39mstrip()\u001b[38;5;241m.\u001b[39msplit(\u001b[38;5;124m'\u001b[39m\u001b[38;5;124m,\u001b[39m\u001b[38;5;124m'\u001b[39m)))\n\u001b[1;32m---> 33\u001b[0m     title_index \u001b[38;5;241m=\u001b[39m df\u001b[38;5;241m.\u001b[39mindex[df[\u001b[38;5;124m'\u001b[39m\u001b[38;5;124mtitle\u001b[39m\u001b[38;5;124m'\u001b[39m] \u001b[38;5;241m==\u001b[39m data[\u001b[38;5;124m'\u001b[39m\u001b[38;5;124mtitle\u001b[39m\u001b[38;5;124m'\u001b[39m]]\n\u001b[0;32m     34\u001b[0m     \u001b[38;5;28;01mif\u001b[39;00m \u001b[38;5;129;01mnot\u001b[39;00m title_index\u001b[38;5;241m.\u001b[39mempty:\n\u001b[0;32m     35\u001b[0m         title_index \u001b[38;5;241m=\u001b[39m title_index[\u001b[38;5;241m0\u001b[39m]\n",
      "\u001b[1;31mKeyError\u001b[0m: 'title'"
     ]
    }
   ],
   "source": [
    "# kafka_producer.py\n",
    "from kafka import KafkaProducer\n",
    "import json\n",
    "from time import sleep\n",
    "import pandas as pd\n",
    "from sklearn.feature_extraction.text import TfidfVectorizer\n",
    "from sklearn.metrics.pairwise import linear_kernel\n",
    "\n",
    "producer = KafkaProducer(\n",
    "    bootstrap_servers=['13.58.11.37:9092'],\n",
    "    value_serializer=lambda x: json.dumps(x).encode('utf-8')\n",
    ")\n",
    "\n",
    "df = pd.read_csv(\"data/netflix_titles.csv\")\n",
    "\n",
    "# Function to train a simple recommendation model\n",
    "def train_recommendation_model(data):\n",
    "    tfidf_vectorizer = TfidfVectorizer(stop_words='english')\n",
    "    tfidf_matrix = tfidf_vectorizer.fit_transform(data['description'].fillna(''))\n",
    "\n",
    "    cosine_sim = linear_kernel(tfidf_matrix, tfidf_matrix)\n",
    "\n",
    "    return cosine_sim\n",
    "\n",
    "recommendation_model = train_recommendation_model(df)\n",
    "\n",
    "with open('data/netflix_titles.csv', encoding='utf-8') as f:\n",
    "    next(f)  # Skip the header row\n",
    "    for line in f:\n",
    "        # Convert each CSV line to a dictionary\n",
    "        data = dict(zip(df.columns, line.strip().split(',')))\n",
    "\n",
    "        title_index = df.index[df['title'] == data['title']]\n",
    "        if not title_index.empty:\n",
    "            title_index = title_index[0]\n",
    "            data['recommendations'] = [df['title'][i] for i in recommendation_model[title_index].argsort()[::-1][1:6]]\n",
    "        else:\n",
    "            data['recommendations'] = [] \n",
    "\n",
    "        producer.send('netflix-data', value=data)\n",
    "        sleep(0.1)"
   ]
  }
 ],
 "metadata": {
  "kernelspec": {
   "display_name": "Python 3",
   "language": "python",
   "name": "python3"
  },
  "language_info": {
   "codemirror_mode": {
    "name": "ipython",
    "version": 3
   },
   "file_extension": ".py",
   "mimetype": "text/x-python",
   "name": "python",
   "nbconvert_exporter": "python",
   "pygments_lexer": "ipython3",
   "version": "3.11.5"
  },
  "polyglot_notebook": {
   "kernelInfo": {
    "defaultKernelName": "csharp",
    "items": [
     {
      "aliases": [],
      "name": "csharp"
     }
    ]
   }
  }
 },
 "nbformat": 4,
 "nbformat_minor": 2
}
